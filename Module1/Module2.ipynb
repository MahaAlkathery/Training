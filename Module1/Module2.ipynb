{
  "nbformat": 4,
  "nbformat_minor": 0,
  "metadata": {
    "colab": {
      "provenance": [],
      "authorship_tag": "ABX9TyO92X5HWWCL6i7/wTa/P/W0",
      "include_colab_link": true
    },
    "kernelspec": {
      "name": "python3",
      "display_name": "Python 3"
    },
    "language_info": {
      "name": "python"
    }
  },
  "cells": [
    {
      "cell_type": "markdown",
      "metadata": {
        "id": "view-in-github",
        "colab_type": "text"
      },
      "source": [
        "<a href=\"https://colab.research.google.com/github/MahaAlkathery/Training/blob/main/Module2.ipynb\" target=\"_parent\"><img src=\"https://colab.research.google.com/assets/colab-badge.svg\" alt=\"Open In Colab\"/></a>"
      ]
    },
    {
      "cell_type": "code",
      "execution_count": null,
      "metadata": {
        "id": "TK4X1Gh0jyNT"
      },
      "outputs": [],
      "source": [
        "def only_odd_numbers():\n",
        "  while True:\n",
        "    try: \n",
        "      n = int(input(\"Enter Number of Numbers: \"))\n",
        "      break\n",
        "    except ValueError:\n",
        "      print(\"Please enter an INTEGER\")\n",
        "      continue \n",
        "  a = 1\n",
        "  l = []\n",
        "  while a <= n:\n",
        "    try:\n",
        "      num = int(input(f\"Enter Number {a}: \"))\n",
        "      a += 1\n",
        "      l.append(num)\n",
        "      \n",
        "    except ValueError:\n",
        "      print(\"Please enter an INTEGER\")\n",
        "      continue \n",
        "  l_odd = []\n",
        "  for i in l:\n",
        "    if(i%2 != 0):\n",
        "      l_odd.append(i)\n",
        "  return l_odd  \n",
        "  \n",
        "\n",
        "\n"
      ]
    },
    {
      "cell_type": "code",
      "source": [
        "only_odd_numbers()"
      ],
      "metadata": {
        "colab": {
          "base_uri": "https://localhost:8080/"
        },
        "id": "VelhoXw8yVCM",
        "outputId": "e4d1de09-13e8-40c5-cbc0-f2b1f54e2cd5"
      },
      "execution_count": null,
      "outputs": [
        {
          "name": "stdout",
          "output_type": "stream",
          "text": [
            "Enter Number of Numbers: w\n",
            "Please enter an INTEGER\n",
            "Enter Number of Numbers: 5\n",
            "Enter Number 1: 3\n",
            "Enter Number 2: 8\n",
            "Enter Number 3: 3\n",
            "Enter Number 4: 8\n",
            "Enter Number 5: 3\n"
          ]
        },
        {
          "output_type": "execute_result",
          "data": {
            "text/plain": [
              "[3, 3, 3]"
            ]
          },
          "metadata": {},
          "execution_count": 5
        }
      ]
    },
    {
      "cell_type": "code",
      "source": [
        "def only_even_numbers():\n",
        "  while True:\n",
        "    try: \n",
        "      n = int(input(\"Enter Number of Numbers: \"))\n",
        "      break\n",
        "    except ValueError:\n",
        "      print(\"Please enter an INTEGER\")\n",
        "      continue \n",
        "  a = 1\n",
        "  l = []\n",
        "  while a <= n:\n",
        "    try:\n",
        "      num = int(input(f\"Enter Number {a}: \"))\n",
        "      a += 1\n",
        "      l.append(num)\n",
        "      \n",
        "    except ValueError:\n",
        "      print(\"Please enter an INTEGER\")\n",
        "      continue \n",
        "  l_even = []\n",
        "  for i in l:\n",
        "    if(i%2 == 0):\n",
        "      l_even.append(i)\n",
        "  return l_even  "
      ],
      "metadata": {
        "id": "i3D7z1b4yYam"
      },
      "execution_count": null,
      "outputs": []
    },
    {
      "cell_type": "code",
      "source": [
        "only_even_numbers()"
      ],
      "metadata": {
        "colab": {
          "base_uri": "https://localhost:8080/"
        },
        "id": "KF-ycEmxy5Hw",
        "outputId": "d1ee8548-5c43-4512-a968-208a282a94a5"
      },
      "execution_count": null,
      "outputs": [
        {
          "name": "stdout",
          "output_type": "stream",
          "text": [
            "Enter Number of Numbers: 4\n",
            "Enter Number 1: ff\n",
            "Please enter an INTEGER\n",
            "Enter Number 1: 2\n",
            "Enter Number 2: 3\n",
            "Enter Number 3: 4\n",
            "Enter Number 4: 5\n"
          ]
        },
        {
          "output_type": "execute_result",
          "data": {
            "text/plain": [
              "[2, 4]"
            ]
          },
          "metadata": {},
          "execution_count": 7
        }
      ]
    },
    {
      "cell_type": "code",
      "source": [],
      "metadata": {
        "id": "uOI54uPly7W-"
      },
      "execution_count": null,
      "outputs": []
    }
  ]
}