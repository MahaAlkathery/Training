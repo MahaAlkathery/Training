{
 "cells": [
  {
   "cell_type": "markdown",
   "id": "c1d3686a",
   "metadata": {},
   "source": [
    "# OOP Practice Example "
   ]
  },
  {
   "cell_type": "markdown",
   "id": "327f4971",
   "metadata": {},
   "source": [
    "This is a simple Bank system program."
   ]
  },
  {
   "cell_type": "code",
   "execution_count": 13,
   "id": "67b8acce",
   "metadata": {},
   "outputs": [],
   "source": [
    "# the parent class a BankAccount\n",
    "class BankAcount:\n",
    "    \n",
    "    def __init__(self,name,balance):\n",
    "        self.name=name\n",
    "        self.balance=balance\n",
    "        \n",
    "        \n",
    "    def withdraw(self,amount):\n",
    "        if(self.balance - amount < 0):\n",
    "            print(\"Could not complete the transaction due to insufficient balance.\")\n",
    "        elif(amount<0):\n",
    "            print('Please enter a valid amount')\n",
    "        else:\n",
    "            self.balance = self.balance - amount\n",
    "            print(f'Transaction completed successfully, your new balannce = {self.balance}')\n",
    "            \n",
    "    def deposit(self,amount):\n",
    "        if(amount>0):\n",
    "            self.balance = self.balance + amount\n",
    "            print(f'Your new balance is {self.balance}')\n",
    "        else:\n",
    "            print(\"Could not complete the transaction due to unvalid amount.\")\n",
    "    def info(self):\n",
    "        print(f\"Name: {self.name}\\nBalance: {self.balance}\")\n",
    "    "
   ]
  },
  {
   "cell_type": "code",
   "execution_count": 21,
   "id": "4b6cb533",
   "metadata": {},
   "outputs": [],
   "source": [
    "# MinimumBalanceAccount is a Bankacount that has minimum amount that cant go under\n",
    "class MinimumBalanceAccount (BankAcount):\n",
    "    \n",
    "    def __init__(self,name,balance,limit):\n",
    "        super().__init__(name,balance)\n",
    "        self.limit=limit\n",
    "        \n",
    "    def withdraw(self,amount):\n",
    "        if(self.balance - amount < 0):\n",
    "            print(\"Could not complete the transaction due to insufficient balance.\")\n",
    "        elif(amount<0):\n",
    "            print('Please enter a valid amount')\n",
    "        elif(self.balance - amount < self.limit):\n",
    "            print(\"Could not complete the transaction due to exceeding the minimum limit.\")\n",
    "        else:\n",
    "            self.balance = self.balance - amount\n",
    "            print(f'Transaction completed successfully, your new balannce = {self.balance}')\n",
    "    def info(self):\n",
    "        print(f\"Name: {self.name}\\nBalance: {self.balance}\\nMim Limit: {self.limit}\")"
   ]
  },
  {
   "cell_type": "code",
   "execution_count": 16,
   "id": "c6442334",
   "metadata": {},
   "outputs": [
    {
     "name": "stdout",
     "output_type": "stream",
     "text": [
      "Name: Maha\n",
      "Balance: 100\n"
     ]
    }
   ],
   "source": [
    "# creating bank accounts\n",
    "a1 = BankAcount('Maha',100)\n",
    "a1.info()"
   ]
  },
  {
   "cell_type": "code",
   "execution_count": 17,
   "id": "9137acfa",
   "metadata": {},
   "outputs": [
    {
     "name": "stdout",
     "output_type": "stream",
     "text": [
      "Could not complete the transaction due to insufficient balance.\n"
     ]
    }
   ],
   "source": [
    "a1.withdraw(150)"
   ]
  },
  {
   "cell_type": "code",
   "execution_count": 18,
   "id": "f937d986",
   "metadata": {},
   "outputs": [
    {
     "name": "stdout",
     "output_type": "stream",
     "text": [
      "Your new balance is 200\n"
     ]
    }
   ],
   "source": [
    "a1.deposit(100)"
   ]
  },
  {
   "cell_type": "code",
   "execution_count": 19,
   "id": "34f6d091",
   "metadata": {},
   "outputs": [
    {
     "name": "stdout",
     "output_type": "stream",
     "text": [
      "Transaction completed successfully, your new balannce = 50\n"
     ]
    }
   ],
   "source": [
    "a1.withdraw(150)"
   ]
  },
  {
   "cell_type": "code",
   "execution_count": 22,
   "id": "091767ea",
   "metadata": {},
   "outputs": [
    {
     "name": "stdout",
     "output_type": "stream",
     "text": [
      "Name: Nora\n",
      "Balance: 200\n",
      "Mim Limit: 50\n"
     ]
    }
   ],
   "source": [
    "a2 = MinimumBalanceAccount('Nora',200,50)\n",
    "a2.info()"
   ]
  },
  {
   "cell_type": "code",
   "execution_count": 23,
   "id": "ce42ae05",
   "metadata": {},
   "outputs": [
    {
     "name": "stdout",
     "output_type": "stream",
     "text": [
      "Could not complete the transaction due to exceeding the minimum limit.\n"
     ]
    }
   ],
   "source": [
    "a2.withdraw(170)"
   ]
  },
  {
   "cell_type": "code",
   "execution_count": 24,
   "id": "e205ab4d",
   "metadata": {},
   "outputs": [
    {
     "name": "stdout",
     "output_type": "stream",
     "text": [
      "Your new balance is 250\n"
     ]
    }
   ],
   "source": [
    "a2.deposit(50)"
   ]
  },
  {
   "cell_type": "code",
   "execution_count": 25,
   "id": "fb27412b",
   "metadata": {},
   "outputs": [
    {
     "name": "stdout",
     "output_type": "stream",
     "text": [
      "Transaction completed successfully, your new balannce = 80\n"
     ]
    }
   ],
   "source": [
    "a2.withdraw(170)"
   ]
  },
  {
   "cell_type": "code",
   "execution_count": 26,
   "id": "49cdf04f",
   "metadata": {},
   "outputs": [
    {
     "name": "stdout",
     "output_type": "stream",
     "text": [
      "Could not complete the transaction due to unvalid amount.\n"
     ]
    }
   ],
   "source": [
    "a1.deposit(-50)"
   ]
  },
  {
   "cell_type": "code",
   "execution_count": 27,
   "id": "08f056fb",
   "metadata": {},
   "outputs": [
    {
     "name": "stdout",
     "output_type": "stream",
     "text": [
      "Please enter a valid amount\n"
     ]
    }
   ],
   "source": [
    "a1.withdraw(-50)"
   ]
  },
  {
   "cell_type": "code",
   "execution_count": 30,
   "id": "4b1e1d19",
   "metadata": {},
   "outputs": [
    {
     "name": "stdout",
     "output_type": "stream",
     "text": [
      "Name: Maha\n",
      "Balance: 50\n",
      "=================================================================\n",
      "Name: Nora\n",
      "Balance: 80\n",
      "Mim Limit: 50\n"
     ]
    }
   ],
   "source": [
    "a1.info()\n",
    "print(\"=============\"*5)\n",
    "a2.info()"
   ]
  },
  {
   "cell_type": "markdown",
   "id": "c7918205",
   "metadata": {},
   "source": [
    "# Basic Problems"
   ]
  },
  {
   "cell_type": "markdown",
   "id": "37c2225f",
   "metadata": {},
   "source": [
    "Factorial of an integer"
   ]
  },
  {
   "cell_type": "code",
   "execution_count": 32,
   "id": "d8b581e2",
   "metadata": {},
   "outputs": [
    {
     "name": "stdout",
     "output_type": "stream",
     "text": [
      "Enter a number 4\n",
      "The factorial of 4 is 24\n"
     ]
    }
   ],
   "source": [
    "# factorial of an integer n: n*(n-1)*(n-2)*...*2*1\n",
    "n=int(input(\"Enter a number \"))\n",
    "tmp = 1\n",
    "for i in range(1,n+1):\n",
    "    tmp = tmp * i\n",
    "print(f\"The factorial of {n} is {tmp}\")"
   ]
  },
  {
   "cell_type": "code",
   "execution_count": 11,
   "id": "20295de7",
   "metadata": {},
   "outputs": [
    {
     "name": "stdout",
     "output_type": "stream",
     "text": [
      "Enter a number 2\n",
      "fibonacci series up until 2 index is:  0 , 1 , "
     ]
    }
   ],
   "source": [
    "# fibonacci series 0 1 1 2 3 5 8 \n",
    "n=int(input(\"Enter a number \"))\n",
    "a = 0\n",
    "b = 1\n",
    "if (n==1):\n",
    "    print('fibonacci series at fisrt index is ',0)\n",
    "else:\n",
    "    print(f\"fibonacci series up until {n} index is: \",end = ' ')\n",
    "    print(a,\",\",end = ' ')\n",
    "    print(b,\",\",end = ' ')\n",
    "    for i in range(2,n):\n",
    "        c = a + b \n",
    "        a = b\n",
    "        b = c\n",
    "        print(b,\",\",end = ' ')"
   ]
  },
  {
   "cell_type": "code",
   "execution_count": 21,
   "id": "d188eff6",
   "metadata": {
    "scrolled": true
   },
   "outputs": [
    {
     "name": "stdout",
     "output_type": "stream",
     "text": [
      "Enter a string: abcd\n",
      "dcba\n",
      "abcd\n"
     ]
    }
   ],
   "source": [
    "# reverse a string\n",
    "n = str(input('Enter a string: '))\n",
    "i = 0\n",
    "j = len(n)-1\n",
    "n = list(n)\n",
    "for c in range(int(len(n)/2)):\n",
    "    tmp = n[i]\n",
    "    n[i] = n[j]\n",
    "    n[j] = tmp\n",
    "    i = i + 1\n",
    "    j = j - 1\n",
    "n = ''.join(n)    \n",
    "print(n)\n",
    "\n",
    "# instead of looping\n",
    "n = n[::-1]\n",
    "print(n)"
   ]
  },
  {
   "cell_type": "code",
   "execution_count": 27,
   "id": "53ab8e4e",
   "metadata": {},
   "outputs": [
    {
     "name": "stdout",
     "output_type": "stream",
     "text": [
      "Enter a number 153\n",
      "it is an armstring number\n",
      "153\n"
     ]
    }
   ],
   "source": [
    "# armstrong number \n",
    "n=int(input(\"Enter a number \")) \n",
    "tmp = n \n",
    "total = 0 \n",
    "order = len(str(n))\n",
    "while(tmp != 0):\n",
    "    d = tmp % 10\n",
    "    tmp = int(tmp / 10)\n",
    "    total = total + d**order\n",
    "if(total == n ):\n",
    "    print('it is an armstring number')\n",
    "else:\n",
    "    print('it is not an armstrong')\n",
    "print(total)"
   ]
  },
  {
   "cell_type": "code",
   "execution_count": 29,
   "id": "faef8be7",
   "metadata": {},
   "outputs": [
    {
     "name": "stdout",
     "output_type": "stream",
     "text": [
      "Enter a number 123\n",
      "it is not a palidrome\n"
     ]
    }
   ],
   "source": [
    "# palindrome\n",
    "n=int(input(\"Enter a number \")) \n",
    "tmp = n \n",
    "rev = 0 \n",
    "order = len(str(n))\n",
    "while(tmp != 0):\n",
    "    d = tmp % 10\n",
    "    rev = rev * 10 + d\n",
    "    tmp = int(tmp /10)\n",
    "if(rev == n ):\n",
    "    print('it is palidrome number')   \n",
    "else:\n",
    "    print('it is not a palidrome')\n"
   ]
  },
  {
   "cell_type": "code",
   "execution_count": 43,
   "id": "93d3faea",
   "metadata": {},
   "outputs": [
    {
     "name": "stdout",
     "output_type": "stream",
     "text": [
      "Enter the value of n: 5\n",
      "      1 \n",
      "     1 1 \n",
      "    1 2 1 \n",
      "   1 3 3 1 \n",
      "  1 4 6 4 1 \n"
     ]
    }
   ],
   "source": [
    "\n",
    "# Python program to print pascal's triangle\n",
    "\n",
    "from math import factorial\n",
    "\n",
    "n=int(input(\"Enter the value of n: \"))\n",
    "\n",
    "for i in range(n):\n",
    "    print(\" \"* (n-i),end=\" \")\n",
    "    \n",
    "    for j in range(i+1):\n",
    "        print(factorial(i)//(factorial(j)*factorial(i-j)),end=\" \")\n",
    "    print()\n"
   ]
  },
  {
   "cell_type": "code",
   "execution_count": 15,
   "id": "06c28c16",
   "metadata": {},
   "outputs": [],
   "source": [
    "def spin_words(sentence):\n",
    "    # Your code goes here\n",
    "    words = sentence.split(\" \")\n",
    "    end = []\n",
    "    for word in words:\n",
    "        n = list(word)\n",
    "        i = 0\n",
    "        j = len(n)-1\n",
    "        if(len(n)>=5):\n",
    "            for c in range(int(len(n)/2)):\n",
    "                tmp = n[i]\n",
    "                n[i] = n[j]\n",
    "                n[j] = tmp\n",
    "                i = i + 1\n",
    "                j = j - 1\n",
    "        n = ''.join(n)  \n",
    "        end.append(n)\n",
    "        fin = ' '.join(end)\n",
    "    return fin"
   ]
  },
  {
   "cell_type": "code",
   "execution_count": 13,
   "id": "f6e44a10",
   "metadata": {},
   "outputs": [
    {
     "data": {
      "text/plain": [
       "'desrever tneserp in rettel tneserp or with srettel than secapS tsisnoc dessap name will more gnirts or in dessap five when words and will only only dessap'"
      ]
     },
     "execution_count": 13,
     "metadata": {},
     "output_type": "execute_result"
    }
   ],
   "source": [
    "sentence = \"reversed present in letter present or with letters than Spaces consist passed name will more string or in passed five when words and will only only passed\"\n",
    "spin_words(sentence)"
   ]
  },
  {
   "cell_type": "code",
   "execution_count": 14,
   "id": "abbd1af1",
   "metadata": {},
   "outputs": [
    {
     "name": "stdout",
     "output_type": "stream",
     "text": [
      "desrever tneserp in rettel tneserp or with srettel than secapS tsisnoc dessap name will more gnirts or in dessap five when sdrow and will only only dessap\n"
     ]
    }
   ],
   "source": [
    "print(\"desrever tneserp in rettel tneserp or with srettel than secapS tsisnoc dessap name will more gnirts or in dessap five when sdrow and will only only dessap\")"
   ]
  },
  {
   "cell_type": "code",
   "execution_count": null,
   "id": "52c7d356",
   "metadata": {},
   "outputs": [],
   "source": []
  }
 ],
 "metadata": {
  "kernelspec": {
   "display_name": "Python 3 (ipykernel)",
   "language": "python",
   "name": "python3"
  },
  "language_info": {
   "codemirror_mode": {
    "name": "ipython",
    "version": 3
   },
   "file_extension": ".py",
   "mimetype": "text/x-python",
   "name": "python",
   "nbconvert_exporter": "python",
   "pygments_lexer": "ipython3",
   "version": "3.9.13"
  }
 },
 "nbformat": 4,
 "nbformat_minor": 5
}
