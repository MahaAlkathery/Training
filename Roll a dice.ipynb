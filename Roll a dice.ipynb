{
 "cells": [
  {
   "cell_type": "code",
   "execution_count": 4,
   "id": "1145b734",
   "metadata": {},
   "outputs": [
    {
     "name": "stdout",
     "output_type": "stream",
     "text": [
      "6\n"
     ]
    }
   ],
   "source": [
    "import random \n",
    "print(random.randint(1,6))"
   ]
  },
  {
   "cell_type": "code",
   "execution_count": 7,
   "id": "fffcda18",
   "metadata": {},
   "outputs": [
    {
     "name": "stdout",
     "output_type": "stream",
     "text": [
      "Enter 1 to roll a dice 0 to Exit 1\n",
      "4\n",
      "Enter 1 to roll a dice 0 to Exit 1\n",
      "5\n",
      "Enter 1 to roll a dice 0 to Exit 1\n",
      "4\n",
      "Enter 1 to roll a dice 0 to Exit 6\n"
     ]
    }
   ],
   "source": [
    "while True:\n",
    "    n = int(input(\"Enter 1 to roll a dice 0 to Exit \"))\n",
    "    if n == 1:\n",
    "        print(random.randint(1,6))\n",
    "    else:\n",
    "        break"
   ]
  },
  {
   "cell_type": "code",
   "execution_count": null,
   "id": "6f72fbed",
   "metadata": {},
   "outputs": [],
   "source": []
  }
 ],
 "metadata": {
  "kernelspec": {
   "display_name": "Python 3 (ipykernel)",
   "language": "python",
   "name": "python3"
  },
  "language_info": {
   "codemirror_mode": {
    "name": "ipython",
    "version": 3
   },
   "file_extension": ".py",
   "mimetype": "text/x-python",
   "name": "python",
   "nbconvert_exporter": "python",
   "pygments_lexer": "ipython3",
   "version": "3.9.13"
  }
 },
 "nbformat": 4,
 "nbformat_minor": 5
}
