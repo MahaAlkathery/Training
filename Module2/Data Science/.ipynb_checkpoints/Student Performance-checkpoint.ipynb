{
 "cells": [
  {
   "cell_type": "markdown",
   "id": "26d4c659",
   "metadata": {},
   "source": [
    "# Data Exploration "
   ]
  },
  {
   "cell_type": "code",
   "execution_count": null,
   "id": "1c99ea5f",
   "metadata": {},
   "outputs": [],
   "source": [
    "import pandas as pd\n",
    "import numpy as np\n",
    "import seaborn as sns\n",
    "import missingno as msno\n",
    "import plotly.express as px\n",
    "import matplotlib.pyplot as plt\n",
    "%matplotlib inline\n",
    "plt.style.use('seaborn-darkgrid')\n",
    "\n",
    "df = pd.read_csv('StudentsPerformance.csv')\n",
    "df.head()"
   ]
  },
  {
   "cell_type": "code",
   "execution_count": null,
   "id": "0a594f08",
   "metadata": {},
   "outputs": [],
   "source": [
    "df.info()"
   ]
  },
  {
   "cell_type": "code",
   "execution_count": null,
   "id": "ea18e1b9",
   "metadata": {},
   "outputs": [],
   "source": [
    "df.nunique()"
   ]
  },
  {
   "cell_type": "code",
   "execution_count": null,
   "id": "09bcb6a3",
   "metadata": {},
   "outputs": [],
   "source": [
    "for col in df:\n",
    "    print(df[col].unique())"
   ]
  },
  {
   "cell_type": "markdown",
   "id": "1718dac8",
   "metadata": {},
   "source": [
    "#### I wil combine the values 'high school' and 'some high school'"
   ]
  },
  {
   "cell_type": "code",
   "execution_count": null,
   "id": "cf9f477e",
   "metadata": {},
   "outputs": [],
   "source": [
    "df = df.replace('some high school','high school')"
   ]
  },
  {
   "cell_type": "code",
   "execution_count": null,
   "id": "8e090b7f",
   "metadata": {},
   "outputs": [],
   "source": [
    "for col in df:\n",
    "    print(df[col].unique())"
   ]
  },
  {
   "cell_type": "markdown",
   "id": "407a0f25",
   "metadata": {},
   "source": [
    "# Data Cleaning & Preprocessing "
   ]
  },
  {
   "cell_type": "markdown",
   "id": "7326ed33",
   "metadata": {},
   "source": [
    "#### Firt thing I will attempt to investigate the NULL values in the data set. The coming graph shall show the percentage of non-null values for all attributes."
   ]
  },
  {
   "cell_type": "code",
   "execution_count": null,
   "id": "cd71eca9",
   "metadata": {},
   "outputs": [],
   "source": [
    "msno.bar(df)"
   ]
  },
  {
   "cell_type": "markdown",
   "id": "4467ec69",
   "metadata": {},
   "source": [
    "#### Great! No null values "
   ]
  },
  {
   "cell_type": "markdown",
   "id": "7714b5e7",
   "metadata": {},
   "source": [
    "# Analysis"
   ]
  },
  {
   "cell_type": "code",
   "execution_count": null,
   "id": "c7e3e110",
   "metadata": {},
   "outputs": [],
   "source": [
    "gender = df\n",
    "\n",
    "\n",
    "labels = gender['gender'].unique()\n",
    "sizes = gender.groupby('gender',sort=False).size()\n",
    "\n",
    "fig, ax = plt.subplots(figsize=(6, 6), subplot_kw=dict(aspect=\"equal\"))\n",
    "fig.suptitle('Gender distribution', fontsize=16)\n",
    "wedges, texts, per = ax.pie(sizes, wedgeprops=dict(width=0.5), startangle=-40,autopct='%1.1f%%')\n",
    "\n",
    "kw = dict(arrowprops=dict(arrowstyle=\"->\"), va=\"center\")\n",
    "for p, label in zip(wedges, labels):\n",
    "    ang = np.deg2rad((p.theta1 + p.theta2)/2)\n",
    "    y = np.sin(ang)\n",
    "    x = np.cos(ang)\n",
    "    horizontalalignment = \"center\" if abs(x) < abs(y) else \"right\" if x < 0 else \"left\"\n",
    "    ax.annotate(label, xy=(0.75*x, 0.75*y), xytext=(1.3*x, 1.3*y),\n",
    "                horizontalalignment=horizontalalignment, **kw)\n",
    "plt.tight_layout()\n",
    "plt.show()"
   ]
  },
  {
   "cell_type": "markdown",
   "id": "19ce7164",
   "metadata": {},
   "source": [
    "#### So, we can conclude that there is almost equal amount of girls and boys students"
   ]
  },
  {
   "cell_type": "code",
   "execution_count": null,
   "id": "aa879ee1",
   "metadata": {},
   "outputs": [],
   "source": [
    "df.groupby('gender').mean().plot(kind='bar',rot=0)\n",
    "plt.legend(bbox_to_anchor=(1,0.5), loc=\"center left\")"
   ]
  },
  {
   "cell_type": "markdown",
   "id": "343f084e",
   "metadata": {},
   "source": [
    "#### Girls overall perfromance is slightly better than the boys and is stands out in the writting subject"
   ]
  },
  {
   "cell_type": "markdown",
   "id": "b32e6b11",
   "metadata": {},
   "source": [
    "## Grades"
   ]
  },
  {
   "cell_type": "code",
   "execution_count": null,
   "id": "6692b84d",
   "metadata": {},
   "outputs": [],
   "source": [
    "fea = list(['math score','reading score','writing score'])\n",
    "corr = df[fea].corr()\n",
    "\n",
    "sns.heatmap(corr, cmap=\"Blues\", annot=True)\n",
    "corr"
   ]
  },
  {
   "cell_type": "markdown",
   "id": "89f54a3c",
   "metadata": {},
   "source": [
    "#### In general, students grades moves in tandom between all subject, but it is stronger between reading and writting."
   ]
  },
  {
   "cell_type": "markdown",
   "id": "299e7dd9",
   "metadata": {},
   "source": [
    "####  The grades distribution is very similar between all the subject subjects, even more similar between reading and writting "
   ]
  },
  {
   "cell_type": "code",
   "execution_count": null,
   "id": "e6f91c2f",
   "metadata": {},
   "outputs": [],
   "source": [
    "grades = df[fea]\n",
    "sns.kdeplot(data=grades,fill=True, palette=\"crest\",alpha=.3, linewidth=1.5)\n"
   ]
  },
  {
   "cell_type": "markdown",
   "id": "13d66e9a",
   "metadata": {},
   "source": [
    "#### Calculate the Avg score for each students "
   ]
  },
  {
   "cell_type": "code",
   "execution_count": null,
   "id": "654d071b",
   "metadata": {},
   "outputs": [],
   "source": [
    "df = df.assign(mean=grades.mean(axis=1))\n",
    "df"
   ]
  },
  {
   "cell_type": "code",
   "execution_count": null,
   "id": "8069811f",
   "metadata": {},
   "outputs": [],
   "source": [
    "df.groupby(['parental level of education']).mean()['mean'].plot(figsize=(9,6),marker='o')\n",
    "plt.yticks(np.arange(0, 100, step=5))\n",
    "plt.ylim(0, 100)"
   ]
  },
  {
   "cell_type": "markdown",
   "id": "881b36a7",
   "metadata": {},
   "source": [
    "#### From the graph above, we can conclude that the hieghr the paresnts' degree is the higher the studet's mean grade is."
   ]
  },
  {
   "cell_type": "code",
   "execution_count": null,
   "id": "62cb44be",
   "metadata": {},
   "outputs": [],
   "source": [
    "sns.kdeplot(data=df['mean'],fill=True, palette=\"crest\",alpha=.3, linewidth=1.5)"
   ]
  },
  {
   "cell_type": "code",
   "execution_count": null,
   "id": "53a22f41",
   "metadata": {},
   "outputs": [],
   "source": [
    "fig = px.box(df['mean'],  points=\"all\")\n",
    "fig.show()"
   ]
  },
  {
   "cell_type": "markdown",
   "id": "9dc74dcc",
   "metadata": {},
   "source": [
    "Since the median is the around 70, will check how many of these students whos passed that marked have taken the test preparation course."
   ]
  },
  {
   "cell_type": "code",
   "execution_count": null,
   "id": "48f99bdf",
   "metadata": {},
   "outputs": [],
   "source": [
    "above_70 = df.loc[df['mean'] > 70]\n",
    "above_70"
   ]
  },
  {
   "cell_type": "code",
   "execution_count": null,
   "id": "5ab6e94b",
   "metadata": {},
   "outputs": [],
   "source": [
    "fig = px.pie(above_70, names='test preparation course',title='Above 70 students who prepared')\n",
    "fig.show()"
   ]
  },
  {
   "cell_type": "code",
   "execution_count": null,
   "id": "4194231a",
   "metadata": {},
   "outputs": [],
   "source": []
  }
 ],
 "metadata": {
  "kernelspec": {
   "display_name": "Python 3 (ipykernel)",
   "language": "python",
   "name": "python3"
  },
  "language_info": {
   "codemirror_mode": {
    "name": "ipython",
    "version": 3
   },
   "file_extension": ".py",
   "mimetype": "text/x-python",
   "name": "python",
   "nbconvert_exporter": "python",
   "pygments_lexer": "ipython3",
   "version": "3.9.13"
  }
 },
 "nbformat": 4,
 "nbformat_minor": 5
}
