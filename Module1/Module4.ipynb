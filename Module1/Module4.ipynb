{
 "cells": [
  {
   "cell_type": "code",
   "execution_count": 3,
   "id": "eee52897",
   "metadata": {},
   "outputs": [
    {
     "name": "stdout",
     "output_type": "stream",
     "text": [
      "Requirement already satisfied: beautifulsoup4 in c:\\users\\malkhathery\\anaconda3\\lib\\site-packages (4.11.1)\n",
      "Requirement already satisfied: soupsieve>1.2 in c:\\users\\malkhathery\\anaconda3\\lib\\site-packages (from beautifulsoup4) (2.3.1)\n",
      "Note: you may need to restart the kernel to use updated packages.\n"
     ]
    }
   ],
   "source": [
    "pip install beautifulsoup4"
   ]
  },
  {
   "cell_type": "code",
   "execution_count": 6,
   "id": "cd1721ed",
   "metadata": {},
   "outputs": [
    {
     "name": "stdout",
     "output_type": "stream",
     "text": [
      "Requirement already satisfied: Requests in c:\\users\\malkhathery\\anaconda3\\lib\\site-packages (2.28.1)\n",
      "Requirement already satisfied: certifi>=2017.4.17 in c:\\users\\malkhathery\\anaconda3\\lib\\site-packages (from Requests) (2022.9.14)\n",
      "Requirement already satisfied: urllib3<1.27,>=1.21.1 in c:\\users\\malkhathery\\anaconda3\\lib\\site-packages (from Requests) (1.26.11)\n",
      "Requirement already satisfied: idna<4,>=2.5 in c:\\users\\malkhathery\\anaconda3\\lib\\site-packages (from Requests) (3.3)\n",
      "Requirement already satisfied: charset-normalizer<3,>=2 in c:\\users\\malkhathery\\anaconda3\\lib\\site-packages (from Requests) (2.0.4)\n",
      "Note: you may need to restart the kernel to use updated packages.\n"
     ]
    }
   ],
   "source": [
    "pip install Requests"
   ]
  },
  {
   "cell_type": "code",
   "execution_count": 7,
   "id": "7663b06d",
   "metadata": {},
   "outputs": [
    {
     "name": "stdout",
     "output_type": "stream",
     "text": [
      "Requirement already satisfied: lxml in c:\\users\\malkhathery\\anaconda3\\lib\\site-packages (4.9.1)\n",
      "Note: you may need to restart the kernel to use updated packages.\n"
     ]
    }
   ],
   "source": [
    "pip install lxml"
   ]
  },
  {
   "cell_type": "code",
   "execution_count": 9,
   "id": "7a0bf439",
   "metadata": {},
   "outputs": [],
   "source": [
    "from bs4 import BeautifulSoup\n",
    "import requests\n",
    "\n",
    "html_page = requests.get('https://www.flipkart.com/laptops/~buyback-guarantee-on-laptops-/pr?sid=6bo%2Cb5g&uniqBStoreParam1=val1&wid=11.productCard.PMU_V2').text"
   ]
  },
  {
   "cell_type": "code",
   "execution_count": 26,
   "id": "c28830d6",
   "metadata": {},
   "outputs": [],
   "source": [
    "parser = BeautifulSoup(html_page,'lxml')\n",
    "products = parser.find_all('div',class_ = '_2kHMtA')\n",
    "names = []\n",
    "prices = []\n",
    "ratings = []\n",
    "for product in products:\n",
    "    \n",
    "    name = product.find('div',class_ = '_4rR01T').text\n",
    "    price = product.find('div',class_ = '_30jeq3 _1_WHN1').text\n",
    "    rating = product.find('div',class_ = '_3LWZlK').text\n",
    "    \n",
    "    names.append(name)\n",
    "    prices.append(price)\n",
    "    ratings.append(rating)"
   ]
  },
  {
   "cell_type": "code",
   "execution_count": 37,
   "id": "ab6a963a",
   "metadata": {},
   "outputs": [],
   "source": [
    "import pandas as pd \n",
    "\n",
    "data = {'Product name': names, 'Price':prices, 'Rating(out of 5)':ratings}\n",
    "info = pd.DataFrame(data)\n",
    "info.to_csv('productsInfo.csv')"
   ]
  },
  {
   "cell_type": "code",
   "execution_count": 1,
   "id": "dafc2894",
   "metadata": {},
   "outputs": [
    {
     "name": "stdout",
     "output_type": "stream",
     "text": [
      "Collecting google\n",
      "  Downloading google-3.0.0-py2.py3-none-any.whl (45 kB)\n",
      "     -------------------------------------- 45.3/45.3 kB 186.3 kB/s eta 0:00:00\n",
      "Requirement already satisfied: beautifulsoup4 in c:\\users\\malkhathery\\anaconda3\\lib\\site-packages (from google) (4.11.1)\n",
      "Requirement already satisfied: soupsieve>1.2 in c:\\users\\malkhathery\\anaconda3\\lib\\site-packages (from beautifulsoup4->google) (2.3.1)\n",
      "Installing collected packages: google\n",
      "Successfully installed google-3.0.0\n",
      "Note: you may need to restart the kernel to use updated packages.\n"
     ]
    }
   ],
   "source": [
    "pip install google"
   ]
  },
  {
   "cell_type": "code",
   "execution_count": 2,
   "id": "a37c1900",
   "metadata": {},
   "outputs": [
    {
     "name": "stdout",
     "output_type": "stream",
     "text": [
      "https://www.mechdyne.com/av-vr-solutions/a-next-generation-approach-to-command-control/\n",
      "https://www.airforce-technology.com/news/usaf-first-large-scale-virtual-command-control-platform/\n",
      "https://iopscience.iop.org/article/10.1088/1742-6596/1627/1/012002/pdf\n",
      "https://clearcube.com/industries/command-control-centers/\n",
      "https://www.ey.com/en_gl/innovation-financial-services/how-the-virtual-command-center-can-support-business-continuity-for-fis\n",
      "https://fuseforward.com/solutions/virtual-operations-command-center/\n",
      "https://www.trigent.com/services/infrastructure-services/virtual-command-center.html\n",
      "https://www.researchgate.net/publication/323642340_Analysis_of_Using_Virtual_Reality_VR_for_Command_and_Control_Applications_of_Multi-Robot_Systems\n",
      "https://www.everbridge.com/products/visual-command-center/\n",
      "https://www.simfront.com/products/\n"
     ]
    }
   ],
   "source": [
    "\n",
    "try:\n",
    "    from googlesearch import search\n",
    "except ImportError:\n",
    "    print(\"No module named 'google' found\")\n",
    " \n",
    "# to search\n",
    "query = \"Virtaul Command and Control\"\n",
    "urls = [] \n",
    "for j in search(query, tld=\"co.in\", num=10, stop=10, pause=2):\n",
    "    urls.append(j)\n",
    "    print(j)\n",
    "    "
   ]
  },
  {
   "cell_type": "code",
   "execution_count": null,
   "id": "a2904dd1",
   "metadata": {},
   "outputs": [],
   "source": []
  },
  {
   "cell_type": "code",
   "execution_count": 3,
   "id": "b0f4be9c",
   "metadata": {},
   "outputs": [
    {
     "data": {
      "text/plain": [
       "'org/article/10'"
      ]
     },
     "execution_count": 3,
     "metadata": {},
     "output_type": "execute_result"
    }
   ],
   "source": [
    "import re\n",
    "\n",
    "l = 'https://iopscience.iop.org/article/10.1088/1742-6596/1627/1/012002/pdf'\n",
    "res = re.findall(r'(?<=\\.)([^.]+)(?:\\.(?:co\\.uk|ac\\.us|[^.]+(?:$|\\n)))',l)\n",
    "res[0]"
   ]
  },
  {
   "cell_type": "code",
   "execution_count": 4,
   "id": "3bbdafd9",
   "metadata": {},
   "outputs": [
    {
     "data": {
      "text/plain": [
       "0"
      ]
     },
     "execution_count": 4,
     "metadata": {},
     "output_type": "execute_result"
    }
   ],
   "source": [
    "s = 'https://www.ey.com/en_gl/innovation-financial-services/how-the-virtual-command-center-can-support-business-continuity-for-fis'\n",
    "obj2 = re.findall('://www.([\\w\\-]+)|://([\\w\\-]+)', s)\n",
    "len(obj2[0][1])\n"
   ]
  },
  {
   "cell_type": "code",
   "execution_count": null,
   "id": "c8b2a923",
   "metadata": {},
   "outputs": [
    {
     "name": "stdout",
     "output_type": "stream",
     "text": [
      "=========================================================================================================\n",
      "mechdyne\n",
      "<!DOCTYPE html PUBLIC \"-//W3C//DTD HTML 4.01 Transitional//EN\">\n",
      "<html>\n",
      "<head><meta content=\"text/html; charset=utf-8\" http-equiv=\"content-type\"/><meta content=\"initial-scale=1\" name=\"viewport\"/><title>http://webcache.googleusercontent.com/search?q=cache:https://www.mechdyne.com/av-vr-solutions/a-next-generation-approach-to-command-control/</title></head>\n",
      "<body onload=\"e=document.getElementById('captcha');if(e){e.focus();} if(solveSimpleChallenge) {solveSimpleChallenge(,);}\" style=\"font-family: arial, sans-serif; background-color: #fff; color: #000; padding:20px; font-size:18px;\">\n",
      "<div style=\"max-width:400px;\">\n",
      "<hr noshade=\"\" size=\"1\" style=\"color:#ccc; background-color:#ccc;\"/><br/>\n",
      "<form action=\"index\" id=\"captcha-form\" method=\"post\">\n",
      "<noscript>\n",
      "<div style=\"font-size:13px;\">\n",
      "  In order to continue, please enable javascript on your web browser.\n",
      "</div>\n",
      "</noscript>\n",
      "<script async=\"\" defer=\"\" src=\"https://www.google.com/recaptcha/api.js\"></script>\n",
      "<script>var submitCallback = function(response) {document.getElementById('captcha-form').submit();};</script>\n",
      "<div class=\"g-recaptcha\" data-callback=\"submitCallback\" data-s=\"4lvl-_tAMcbjUEkS4bbdnsJelrQpad5C1c2-TjMf0WErGhwhuBK3Ldcj0zset7k8JKVU2VQLVqoeQpg90bbVZfY1vM1AEZqVZ-b03vAzFPfNGV1gO7hJczuscAqMeSEpFB_evPvPUIKxwbNQ19yXhJlcpiQclTOzollhL5Pakijrow264xZbhOAVCr0m2viNV26tEtD71u63PitDoAbTCzHrl8DRI9LZCHBDD3Ua7ZQjIyAFM4XHFylWF6tH6gTchrgkuzeLBaz2TGO4UtRHwuVR9T7KG6o\" data-sitekey=\"6LfwuyUTAAAAAOAmoS0fdqijC2PbbdH4kjq62Y1b\" id=\"recaptcha\"></div>\n",
      "<input name=\"q\" type=\"hidden\" value=\"EhAgARaiwJaxB-DfgOccEvEwGILNhZ0GIjDxetjQWnFIY3wXevMXe-IgfzAJHxtw_umi2epLGCdOTHXahnt1rdb_ywQTzG2OkDQyAXI\"/><input name=\"continue\" type=\"hidden\" value=\"http://webcache.googleusercontent.com/search?q=cache:https://www.mechdyne.com/av-vr-solutions/a-next-generation-approach-to-command-control/\"/>\n",
      "</form>\n",
      "<hr noshade=\"\" size=\"1\" style=\"color:#ccc; background-color:#ccc;\"/>\n",
      "<div style=\"font-size:13px;\">\n",
      "<b>About this page</b><br/><br/>\n",
      "\n",
      "Our systems have detected unusual traffic from your computer network.  This page checks to see if it's really you sending the requests, and not a robot.  <a href=\"#\" onclick=\"document.getElementById('infoDiv').style.display='block';\">Why did this happen?</a><br/><br/>\n",
      "<div id=\"infoDiv\" style=\"display:none; background-color:#eee; padding:10px; margin:0 0 15px 0; line-height:1.4em;\">\n",
      "This page appears when Google automatically detects requests coming from your computer network which appear to be in violation of the <a href=\"//www.google.com/policies/terms/\">Terms of Service</a>. The block will expire shortly after those requests stop.  In the meantime, solving the above CAPTCHA will let you continue to use our services.<br/><br/>This traffic may have been sent by malicious software, a browser plug-in, or a script that sends automated requests.  If you share your network connection, ask your administrator for help — a different computer using the same IP address may be responsible.  <a href=\"//support.google.com/websearch/answer/86640\">Learn more</a><br/><br/>Sometimes you may be asked to solve the CAPTCHA if you are using advanced terms that robots are known to use, or sending requests very quickly.\n",
      "</div>\n",
      "\n",
      "IP address: 2001:16a2:c096:b107:e0df:80e7:1c12:f130<br/>Time: 2022-12-20T07:38:43Z<br/>URL: http://webcache.googleusercontent.com/search?q=cache:https://www.mechdyne.com/av-vr-solutions/a-next-generation-approach-to-command-control/<br/>\n",
      "</div>\n",
      "</div>\n",
      "</body>\n",
      "</html>\n",
      "\n",
      "0\n",
      "=========================================================================================================\n",
      "airforce-technology\n",
      "<!DOCTYPE html PUBLIC \"-//W3C//DTD HTML 4.01 Transitional//EN\">\n",
      "<html>\n",
      "<head><meta content=\"text/html; charset=utf-8\" http-equiv=\"content-type\"/><meta content=\"initial-scale=1\" name=\"viewport\"/><title>http://webcache.googleusercontent.com/search?q=cache:https://www.airforce-technology.com/news/usaf-first-large-scale-virtual-command-control-platform/</title></head>\n",
      "<body onload=\"e=document.getElementById('captcha');if(e){e.focus();} if(solveSimpleChallenge) {solveSimpleChallenge(,);}\" style=\"font-family: arial, sans-serif; background-color: #fff; color: #000; padding:20px; font-size:18px;\">\n",
      "<div style=\"max-width:400px;\">\n",
      "<hr noshade=\"\" size=\"1\" style=\"color:#ccc; background-color:#ccc;\"/><br/>\n",
      "<form action=\"index\" id=\"captcha-form\" method=\"post\">\n",
      "<noscript>\n",
      "<div style=\"font-size:13px;\">\n",
      "  In order to continue, please enable javascript on your web browser.\n",
      "</div>\n",
      "</noscript>\n",
      "<script async=\"\" defer=\"\" src=\"https://www.google.com/recaptcha/api.js\"></script>\n",
      "<script>var submitCallback = function(response) {document.getElementById('captcha-form').submit();};</script>\n",
      "<div class=\"g-recaptcha\" data-callback=\"submitCallback\" data-s=\"-T0VwYlcJgAelIs8DXBoV7FoMW1b6bCsX8IGNjXrjRv6KRmN7gkTvWqSE2XqqcrtqCncTnVPbtiAVxZQ8dBIOs5Jin8ChPB21uHz7HnZ_6oJMV43ozM_6OJthyH31rRIeSYrEusxQk3xXP_gomwQJa160PudC6lcPvjIBCHIN3Sr8lNfTJhLbppOgEXGGxwjEUckivZC3ERo9VsgG8QT04lMekzP2FjITwW-UGrAPRD2f0e47mz99INmf4wuqfWTEfzbD6Ma7IWG4fqWegjWWA5exLKsAmc\" data-sitekey=\"6LfwuyUTAAAAAOAmoS0fdqijC2PbbdH4kjq62Y1b\" id=\"recaptcha\"></div>\n",
      "<input name=\"q\" type=\"hidden\" value=\"EhAgARaiwJaxB-DfgOccEvEwGIPNhZ0GIjCFn5FXBc8213MId_1qBKl6YNzHPcOfY-IK7lQeii2mOgtsv2gvRuUmzTA7IIXuOx0yAXI\"/><input name=\"continue\" type=\"hidden\" value=\"http://webcache.googleusercontent.com/search?q=cache:https://www.airforce-technology.com/news/usaf-first-large-scale-virtual-command-control-platform/\"/>\n",
      "</form>\n",
      "<hr noshade=\"\" size=\"1\" style=\"color:#ccc; background-color:#ccc;\"/>\n",
      "<div style=\"font-size:13px;\">\n",
      "<b>About this page</b><br/><br/>\n",
      "\n",
      "Our systems have detected unusual traffic from your computer network.  This page checks to see if it's really you sending the requests, and not a robot.  <a href=\"#\" onclick=\"document.getElementById('infoDiv').style.display='block';\">Why did this happen?</a><br/><br/>\n",
      "<div id=\"infoDiv\" style=\"display:none; background-color:#eee; padding:10px; margin:0 0 15px 0; line-height:1.4em;\">\n",
      "This page appears when Google automatically detects requests coming from your computer network which appear to be in violation of the <a href=\"//www.google.com/policies/terms/\">Terms of Service</a>. The block will expire shortly after those requests stop.  In the meantime, solving the above CAPTCHA will let you continue to use our services.<br/><br/>This traffic may have been sent by malicious software, a browser plug-in, or a script that sends automated requests.  If you share your network connection, ask your administrator for help — a different computer using the same IP address may be responsible.  <a href=\"//support.google.com/websearch/answer/86640\">Learn more</a><br/><br/>Sometimes you may be asked to solve the CAPTCHA if you are using advanced terms that robots are known to use, or sending requests very quickly.\n",
      "</div>\n",
      "\n",
      "IP address: 2001:16a2:c096:b107:e0df:80e7:1c12:f130<br/>Time: 2022-12-20T07:38:44Z<br/>URL: http://webcache.googleusercontent.com/search?q=cache:https://www.airforce-technology.com/news/usaf-first-large-scale-virtual-command-control-platform/<br/>\n",
      "</div>\n",
      "</div>\n",
      "</body>\n",
      "</html>\n",
      "\n",
      "0\n",
      "=========================================================================================================\n",
      "iopscience\n",
      "<!DOCTYPE html PUBLIC \"-//W3C//DTD HTML 4.01 Transitional//EN\">\n",
      "<html>\n",
      "<head><meta content=\"text/html; charset=utf-8\" http-equiv=\"content-type\"/><meta content=\"initial-scale=1\" name=\"viewport\"/><title>http://webcache.googleusercontent.com/search?q=cache:https://iopscience.iop.org/article/10.1088/1742-6596/1627/1/012002/pdf</title></head>\n",
      "<body onload=\"e=document.getElementById('captcha');if(e){e.focus();} if(solveSimpleChallenge) {solveSimpleChallenge(,);}\" style=\"font-family: arial, sans-serif; background-color: #fff; color: #000; padding:20px; font-size:18px;\">\n",
      "<div style=\"max-width:400px;\">\n",
      "<hr noshade=\"\" size=\"1\" style=\"color:#ccc; background-color:#ccc;\"/><br/>\n",
      "<form action=\"index\" id=\"captcha-form\" method=\"post\">\n",
      "<noscript>\n",
      "<div style=\"font-size:13px;\">\n",
      "  In order to continue, please enable javascript on your web browser.\n",
      "</div>\n",
      "</noscript>\n",
      "<script async=\"\" defer=\"\" src=\"https://www.google.com/recaptcha/api.js\"></script>\n",
      "<script>var submitCallback = function(response) {document.getElementById('captcha-form').submit();};</script>\n",
      "<div class=\"g-recaptcha\" data-callback=\"submitCallback\" data-s=\"969gs5uWL0SgVAgdlcxgCyG8dktarngyHay2p6FArpbFzq1HfWwUBTzfDjEyDdeDV-08sRLZ_u4rItrQqB36ObtvjCbtmUMsdU9lD7sOJUfXFGS-uLRpuCgtVCKhdx9bZffcLReMCHxm5gHSAXrNswxR0ynDb_yNLlwupUq14tKUmp614ztIry0JZ-aAGQDKXZii3nh7kpZkCOBqQRuXYKLODO-DHWEa3QzLKqcbneZOnMGP1xTTzAo78ZF-pKGAvff1iwpn6T9Yw91ILeDmGMs1ij5K7h0\" data-sitekey=\"6LfwuyUTAAAAAOAmoS0fdqijC2PbbdH4kjq62Y1b\" id=\"recaptcha\"></div>\n",
      "<input name=\"q\" type=\"hidden\" value=\"EhAgARaiwJaxB-DfgOccEvEwGITNhZ0GIjCYVJlEt0443c8Dl_XhGDGAsRjAK8aVYRHZldLOD-lqiPRbn5xGP_3AFjwVAZGY90AyAXI\"/><input name=\"continue\" type=\"hidden\" value=\"http://webcache.googleusercontent.com/search?q=cache:https://iopscience.iop.org/article/10.1088/1742-6596/1627/1/012002/pdf\"/>\n",
      "</form>\n",
      "<hr noshade=\"\" size=\"1\" style=\"color:#ccc; background-color:#ccc;\"/>\n",
      "<div style=\"font-size:13px;\">\n",
      "<b>About this page</b><br/><br/>\n",
      "\n",
      "Our systems have detected unusual traffic from your computer network.  This page checks to see if it's really you sending the requests, and not a robot.  <a href=\"#\" onclick=\"document.getElementById('infoDiv').style.display='block';\">Why did this happen?</a><br/><br/>\n",
      "<div id=\"infoDiv\" style=\"display:none; background-color:#eee; padding:10px; margin:0 0 15px 0; line-height:1.4em;\">\n",
      "This page appears when Google automatically detects requests coming from your computer network which appear to be in violation of the <a href=\"//www.google.com/policies/terms/\">Terms of Service</a>. The block will expire shortly after those requests stop.  In the meantime, solving the above CAPTCHA will let you continue to use our services.<br/><br/>This traffic may have been sent by malicious software, a browser plug-in, or a script that sends automated requests.  If you share your network connection, ask your administrator for help — a different computer using the same IP address may be responsible.  <a href=\"//support.google.com/websearch/answer/86640\">Learn more</a><br/><br/>Sometimes you may be asked to solve the CAPTCHA if you are using advanced terms that robots are known to use, or sending requests very quickly.\n",
      "</div>\n",
      "\n",
      "IP address: 2001:16a2:c096:b107:e0df:80e7:1c12:f130<br/>Time: 2022-12-20T07:38:45Z<br/>URL: http://webcache.googleusercontent.com/search?q=cache:https://iopscience.iop.org/article/10.1088/1742-6596/1627/1/012002/pdf<br/>\n",
      "</div>\n",
      "</div>\n",
      "</body>\n",
      "</html>\n",
      "\n",
      "0\n",
      "=========================================================================================================\n",
      "clearcube\n"
     ]
    },
    {
     "name": "stdout",
     "output_type": "stream",
     "text": [
      "<!DOCTYPE html PUBLIC \"-//W3C//DTD HTML 4.01 Transitional//EN\">\n",
      "<html>\n",
      "<head><meta content=\"text/html; charset=utf-8\" http-equiv=\"content-type\"/><meta content=\"initial-scale=1\" name=\"viewport\"/><title>http://webcache.googleusercontent.com/search?q=cache:https://clearcube.com/industries/command-control-centers/</title></head>\n",
      "<body onload=\"e=document.getElementById('captcha');if(e){e.focus();} if(solveSimpleChallenge) {solveSimpleChallenge(,);}\" style=\"font-family: arial, sans-serif; background-color: #fff; color: #000; padding:20px; font-size:18px;\">\n",
      "<div style=\"max-width:400px;\">\n",
      "<hr noshade=\"\" size=\"1\" style=\"color:#ccc; background-color:#ccc;\"/><br/>\n",
      "<form action=\"index\" id=\"captcha-form\" method=\"post\">\n",
      "<noscript>\n",
      "<div style=\"font-size:13px;\">\n",
      "  In order to continue, please enable javascript on your web browser.\n",
      "</div>\n",
      "</noscript>\n",
      "<script async=\"\" defer=\"\" src=\"https://www.google.com/recaptcha/api.js\"></script>\n",
      "<script>var submitCallback = function(response) {document.getElementById('captcha-form').submit();};</script>\n",
      "<div class=\"g-recaptcha\" data-callback=\"submitCallback\" data-s=\"4aln2p_TjZFM0fXgFtBCD7zrCCOrOqKJGHTdFn5SrGO8iUgYP2AiRRW8JrmDE_y-qoJRXdxjIIP76z0wjbxJ8l2rMtL3jTBbxsMvr2ql5QvWtWG1GaFMF6DM-7pcNOiDofrT0U-EL_4WuR6NGXa64UN5VNnGWsn6g691G6PuV75eupAjnqLONS6evM2FSSkuZ1xzrUePase-Sspv77ePBi6aXvmlcUMB4v5jutZldncI5rI02SNClG5STDWM6NhVM87jX26--qTxhxrXwCgB3Ofh4RtMqzM\" data-sitekey=\"6LfwuyUTAAAAAOAmoS0fdqijC2PbbdH4kjq62Y1b\" id=\"recaptcha\"></div>\n",
      "<input name=\"q\" type=\"hidden\" value=\"EhAgARaiwJaxB-DfgOccEvEwGIbNhZ0GIjC2K7jymDiGChaIBGZKXuP2sZnCWMjUAawcDwd-pDw3yhBWzIOyAxAXYfh-ImJ4N48yAXI\"/><input name=\"continue\" type=\"hidden\" value=\"http://webcache.googleusercontent.com/search?q=cache:https://clearcube.com/industries/command-control-centers/\"/>\n",
      "</form>\n",
      "<hr noshade=\"\" size=\"1\" style=\"color:#ccc; background-color:#ccc;\"/>\n",
      "<div style=\"font-size:13px;\">\n",
      "<b>About this page</b><br/><br/>\n",
      "\n",
      "Our systems have detected unusual traffic from your computer network.  This page checks to see if it's really you sending the requests, and not a robot.  <a href=\"#\" onclick=\"document.getElementById('infoDiv').style.display='block';\">Why did this happen?</a><br/><br/>\n",
      "<div id=\"infoDiv\" style=\"display:none; background-color:#eee; padding:10px; margin:0 0 15px 0; line-height:1.4em;\">\n",
      "This page appears when Google automatically detects requests coming from your computer network which appear to be in violation of the <a href=\"//www.google.com/policies/terms/\">Terms of Service</a>. The block will expire shortly after those requests stop.  In the meantime, solving the above CAPTCHA will let you continue to use our services.<br/><br/>This traffic may have been sent by malicious software, a browser plug-in, or a script that sends automated requests.  If you share your network connection, ask your administrator for help — a different computer using the same IP address may be responsible.  <a href=\"//support.google.com/websearch/answer/86640\">Learn more</a><br/><br/>Sometimes you may be asked to solve the CAPTCHA if you are using advanced terms that robots are known to use, or sending requests very quickly.\n",
      "</div>\n",
      "\n",
      "IP address: 2001:16a2:c096:b107:e0df:80e7:1c12:f130<br/>Time: 2022-12-20T07:38:46Z<br/>URL: http://webcache.googleusercontent.com/search?q=cache:https://clearcube.com/industries/command-control-centers/<br/>\n",
      "</div>\n",
      "</div>\n",
      "</body>\n",
      "</html>\n",
      "\n",
      "0\n",
      "=========================================================================================================\n",
      "ey\n"
     ]
    }
   ],
   "source": [
    "from bs4 import BeautifulSoup\n",
    "import requests\n",
    "\n",
    "skip = ['&','powered','policy','cookies','privacy','explore',\"contact\",'about','message','©2022','please','assurance','financial services','select your','search results','Assurance' ]\n",
    "s = False\n",
    "\n",
    "for url in urls:\n",
    "    print('=========================================================================================================')\n",
    "    res = re.findall('://www.([\\w\\-]+)|://([\\w\\-]+)', url)\n",
    "    name = (res[0][1],res[0][0]) [len(res[0][0])>0]\n",
    "    print(name)\n",
    "    html_page = requests.get(f'http://webcache.googleusercontent.com/search?q=cache:{url}').content\n",
    "    parser = BeautifulSoup(html_page,'lxml')\n",
    "    print(parser)\n",
    "    content = parser.find_all(\"p\")\n",
    "    print(len(content))\n",
    "    s = False\n",
    "    if(content):\n",
    "#         print(content)\n",
    "        print(name)\n",
    "        f = open(f\"{name}.txt\",\"w\")\n",
    "        f.write(f\"{name}.com, \\n\")\n",
    "        for c in content:\n",
    "            if(len(c.text)<20):\n",
    "                continue\n",
    "#             if (s):\n",
    "#                 continue\n",
    "            for x in c.text.split():\n",
    "                if x.lower() in skip:\n",
    "                    s = True\n",
    "                    continue\n",
    "            if(s):\n",
    "                s = False\n",
    "                continue\n",
    "                    \n",
    "#             if any(x.lower() in c.text for x in skip):\n",
    "#                 print(\"inside if\")\n",
    "#                 s = True\n",
    "        \n",
    "#                 continue\n",
    "            print(c.text)\n",
    "            f.write(c.text.strip())\n",
    "            f.write('\\n')\n",
    "        f.close()\n"
   ]
  },
  {
   "cell_type": "code",
   "execution_count": 20,
   "id": "6c594082",
   "metadata": {},
   "outputs": [
    {
     "name": "stdout",
     "output_type": "stream",
     "text": [
      "today\n",
      "no,\n"
     ]
    }
   ],
   "source": [
    "text = ' explore today no,'\n",
    "for x in text.split():\n",
    "    if x in skip:\n",
    "        s = True\n",
    "        continue\n",
    "    print(x)"
   ]
  },
  {
   "cell_type": "code",
   "execution_count": 31,
   "id": "7e52779b",
   "metadata": {},
   "outputs": [],
   "source": [
    "import os\n",
    "\n",
    "folderpath = r\"Files\" # make sure to put the 'r' in front\n",
    "filepaths  = [os.path.join(folderpath, name) for name in os.listdir(folderpath)]\n",
    "all_files = []\n",
    "with open(\"allFiles.txt\",'w') as file:\n",
    "    \n",
    "    for path in filepaths:\n",
    "        with open(path, 'r') as f:\n",
    "            for line in f: \n",
    "                file.write(line)\n",
    "            file.write(\"==========================\"*4)\n",
    "            file.write(\"\\n\")\n",
    "            f.close()\n",
    "            \n",
    "    file.close()\n",
    "            "
   ]
  },
  {
   "cell_type": "code",
   "execution_count": null,
   "id": "51fb9443",
   "metadata": {},
   "outputs": [],
   "source": []
  }
 ],
 "metadata": {
  "kernelspec": {
   "display_name": "Python 3 (ipykernel)",
   "language": "python",
   "name": "python3"
  },
  "language_info": {
   "codemirror_mode": {
    "name": "ipython",
    "version": 3
   },
   "file_extension": ".py",
   "mimetype": "text/x-python",
   "name": "python",
   "nbconvert_exporter": "python",
   "pygments_lexer": "ipython3",
   "version": "3.9.13"
  }
 },
 "nbformat": 4,
 "nbformat_minor": 5
}
