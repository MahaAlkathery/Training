{
 "cells": [
  {
   "cell_type": "code",
   "execution_count": 3,
   "id": "eee52897",
   "metadata": {},
   "outputs": [
    {
     "name": "stdout",
     "output_type": "stream",
     "text": [
      "Requirement already satisfied: beautifulsoup4 in c:\\users\\malkhathery\\anaconda3\\lib\\site-packages (4.11.1)\n",
      "Requirement already satisfied: soupsieve>1.2 in c:\\users\\malkhathery\\anaconda3\\lib\\site-packages (from beautifulsoup4) (2.3.1)\n",
      "Note: you may need to restart the kernel to use updated packages.\n"
     ]
    }
   ],
   "source": [
    "pip install beautifulsoup4"
   ]
  },
  {
   "cell_type": "code",
   "execution_count": 6,
   "id": "cd1721ed",
   "metadata": {},
   "outputs": [
    {
     "name": "stdout",
     "output_type": "stream",
     "text": [
      "Requirement already satisfied: Requests in c:\\users\\malkhathery\\anaconda3\\lib\\site-packages (2.28.1)\n",
      "Requirement already satisfied: certifi>=2017.4.17 in c:\\users\\malkhathery\\anaconda3\\lib\\site-packages (from Requests) (2022.9.14)\n",
      "Requirement already satisfied: urllib3<1.27,>=1.21.1 in c:\\users\\malkhathery\\anaconda3\\lib\\site-packages (from Requests) (1.26.11)\n",
      "Requirement already satisfied: idna<4,>=2.5 in c:\\users\\malkhathery\\anaconda3\\lib\\site-packages (from Requests) (3.3)\n",
      "Requirement already satisfied: charset-normalizer<3,>=2 in c:\\users\\malkhathery\\anaconda3\\lib\\site-packages (from Requests) (2.0.4)\n",
      "Note: you may need to restart the kernel to use updated packages.\n"
     ]
    }
   ],
   "source": [
    "pip install Requests"
   ]
  },
  {
   "cell_type": "code",
   "execution_count": 7,
   "id": "7663b06d",
   "metadata": {},
   "outputs": [
    {
     "name": "stdout",
     "output_type": "stream",
     "text": [
      "Requirement already satisfied: lxml in c:\\users\\malkhathery\\anaconda3\\lib\\site-packages (4.9.1)\n",
      "Note: you may need to restart the kernel to use updated packages.\n"
     ]
    }
   ],
   "source": [
    "pip install lxml"
   ]
  },
  {
   "cell_type": "code",
   "execution_count": 9,
   "id": "7a0bf439",
   "metadata": {},
   "outputs": [],
   "source": [
    "from bs4 import BeautifulSoup\n",
    "import requests\n",
    "\n",
    "html_page = requests.get('https://www.flipkart.com/laptops/~buyback-guarantee-on-laptops-/pr?sid=6bo%2Cb5g&uniqBStoreParam1=val1&wid=11.productCard.PMU_V2').text"
   ]
  },
  {
   "cell_type": "code",
   "execution_count": 26,
   "id": "c28830d6",
   "metadata": {},
   "outputs": [],
   "source": [
    "parser = BeautifulSoup(html_page,'lxml')\n",
    "products = parser.find_all('div',class_ = '_2kHMtA')\n",
    "names = []\n",
    "prices = []\n",
    "ratings = []\n",
    "for product in products:\n",
    "    \n",
    "    name = product.find('div',class_ = '_4rR01T').text\n",
    "    price = product.find('div',class_ = '_30jeq3 _1_WHN1').text\n",
    "    rating = product.find('div',class_ = '_3LWZlK').text\n",
    "    \n",
    "    names.append(name)\n",
    "    prices.append(price)\n",
    "    ratings.append(rating)"
   ]
  },
  {
   "cell_type": "code",
   "execution_count": 37,
   "id": "ab6a963a",
   "metadata": {},
   "outputs": [],
   "source": [
    "import pandas as pd \n",
    "\n",
    "data = {'Product name': names, 'Price':prices, 'Rating(out of 5)':ratings}\n",
    "info = pd.DataFrame(data)\n",
    "info.to_csv('productsInfo.csv')"
   ]
  }
 ],
 "metadata": {
  "kernelspec": {
   "display_name": "Python 3 (ipykernel)",
   "language": "python",
   "name": "python3"
  },
  "language_info": {
   "codemirror_mode": {
    "name": "ipython",
    "version": 3
   },
   "file_extension": ".py",
   "mimetype": "text/x-python",
   "name": "python",
   "nbconvert_exporter": "python",
   "pygments_lexer": "ipython3",
   "version": "3.9.13"
  }
 },
 "nbformat": 4,
 "nbformat_minor": 5
}
